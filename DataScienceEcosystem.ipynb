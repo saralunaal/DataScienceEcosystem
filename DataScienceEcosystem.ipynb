{
  "metadata": {
    "kernelspec": {
      "name": "python",
      "display_name": "Python (Pyodide)",
      "language": "python"
    },
    "language_info": {
      "name": ""
    }
  },
  "nbformat_minor": 4,
  "nbformat": 4,
  "cells": [
    {
      "cell_type": "markdown",
      "source": "#In this notebook, Data Science Tools and Ecosystem are summarized.",
      "metadata": {}
    },
    {
      "cell_type": "markdown",
      "source": "#some of the popular languages that Data Scientist use are:\n1. R\n2. Python\n3. SQL\n4. JavaScrip\n5. C/C++\n",
      "metadata": {}
    },
    {
      "cell_type": "markdown",
      "source": "#Some of the commonly uses libraries used by Data Scientists include:\n1. Pandas\n2. NumPy\n3. MatPlotlib\n",
      "metadata": {}
    },
    {
      "cell_type": "markdown",
      "source": "|Data Science Tools|\n|-----|\n|Anaconda|\n|JupiterLite|\n|RStudio|\n",
      "metadata": {}
    },
    {
      "cell_type": "markdown",
      "source": "## Below are a few examples of evaluating arithmetic expressions in Python.",
      "metadata": {}
    },
    {
      "cell_type": "markdown",
      "source": "#this is a simple arithmetic expression to multiply then add integers",
      "metadata": {}
    },
    {
      "cell_type": "code",
      "source": "(3*4)+5 ",
      "metadata": {
        "trusted": true
      },
      "outputs": [],
      "execution_count": null
    },
    {
      "cell_type": "code",
      "source": "17",
      "metadata": {
        "trusted": true
      },
      "outputs": [],
      "execution_count": null
    },
    {
      "cell_type": "code",
      "source": "# This will convert 200 minutes to hours by diving by 60\n(200/60)",
      "metadata": {
        "trusted": true
      },
      "outputs": [],
      "execution_count": null
    },
    {
      "cell_type": "code",
      "source": "3,3333",
      "metadata": {
        "trusted": true
      },
      "outputs": [],
      "execution_count": null
    },
    {
      "cell_type": "markdown",
      "source": "**OBJETIVES**\n1. List of popular languages\n2. Commonly uses libraries\n3. Create a table of Data Science tools",
      "metadata": {}
    },
    {
      "cell_type": "markdown",
      "source": "## Author\nSara Luna Alhdadcha Rodriguez",
      "metadata": {}
    },
    {
      "cell_type": "code",
      "source": "",
      "metadata": {
        "trusted": true
      },
      "outputs": [],
      "execution_count": null
    }
  ]
}